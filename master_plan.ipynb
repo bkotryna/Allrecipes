{
 "cells": [
  {
   "cell_type": "markdown",
   "metadata": {},
   "source": [
    "# Master plan"
   ]
  },
  {
   "cell_type": "markdown",
   "metadata": {},
   "source": [
    "# Dealing with file/folder names & locations\n",
    "\n",
    "1. Retrieving in recipes\n",
    "    <br><br>\n",
    "    \n",
    "    1. By collection ids\n",
    "        * Script name = scrape_by_collection_ids\n",
    "        * Create a new folder for the round within allrecipes/data/\n",
    "            * Folder name = based on time now\n",
    "            * For all the next steps, move into the new folder\n",
    "        * Create a new folder, folder name = collections\n",
    "        * Save collection page html's into \"collections\" folder\n",
    "            * File name = \"collection_id_{collection id}_ html\"\n",
    "        * Create a new folder, folder name = recipes\n",
    "        * Save each recipe individually into 'recipes' folder\n",
    "            * File name = \"recipe_id_{recipe id}_ html\"\n",
    "    <br><br>\n",
    "    \n",
    "    1. By recipe ids\n",
    "        * Script name = scrape_by_recipe_ids\n",
    "        * Create a new folder within allrecipes/data/\n",
    "            * Folder name = based on time now\n",
    "            * For all the next steps, move into the new folder\n",
    "        * Create a new folder, folder name = recipes\n",
    "        * Save each recipe individually into 'recipes' folder\n",
    "    <br><br>\n",
    "    \n",
    "1. Processing recipes<br><br>\n",
    "    1. Script name = process_recipes\n",
    "    1. Read in recipe files from folder \"recipes\"\n",
    "        * Just read in every file from the folder (one by one, so it doesn't clog)\n",
    "    1. Create an Excel spreadsheet for the output\n",
    "        * Save it just inside the round folder\n",
    "        * File name = \"processed_recipe_data.xlsx\"\n",
    "    <br><br>\n",
    "    \n",
    "1. Make wordclouds<br><br>\n",
    "    1. Script name = wordclouds\n",
    "    1. Read in Excel spreadsheet from inside the round folder\n",
    "    1. Create a new folder within the round folder\n",
    "        * Folder name = wordclouds\n",
    "    1. Save wordclouds as .jpeg within the new folder\n",
    "        * File name = column name (eg \"title\", \"description\" etc)\n",
    "    <br><br>\n",
    "\n",
    "1. ML prep & execusion<br><br>\n",
    "    1. Read in Excel spreadsheet from inside the round folder"
   ]
  },
  {
   "cell_type": "markdown",
   "metadata": {},
   "source": [
    "# To do\n",
    "\n",
    "### General\n",
    "1. Re-think overall strategy and steps, then just get on with them\n",
    "1. --- Split code into new files by section (modular)\n",
    "\n",
    "### Retrieving recipes\n",
    "1. --- Save html files one by one\n",
    "1. --- Make a clear plan for html retrieving / saving / reading and then edit functions accordingly\n",
    "    1. --- eg folder creation & naming, file naming etc (dated names => hard automatic retrieval)\n",
    "1. Retrieve 25,000 recipes\n",
    "\n",
    "### Processing\n",
    "1. --- Read in html files one by one\n",
    "1. --- Build in safety nets for html processing (currently gets stuck if no json found or sth)\n",
    "1. Check why some recipes get stuck in processing\n",
    "    1. Build in a workaround if appropriate\n",
    "\n",
    "### ML\n",
    "1. --- Build in printing of NMF analysis - Kenny\n",
    "1. --- Tree analysis - print out key features - Kenny\n",
    "1. Put stemming back in to NMF analysis re Kenny\n",
    "1. Once I have 25,000 recipes, use 15 components for NMF\n",
    "1. Explore the data\n",
    "    1. plot outliers, correlations etc"
   ]
  },
  {
   "cell_type": "code",
   "execution_count": null,
   "metadata": {},
   "outputs": [],
   "source": []
  }
 ],
 "metadata": {
  "kernelspec": {
   "display_name": "Python 3",
   "language": "python",
   "name": "python3"
  },
  "language_info": {
   "codemirror_mode": {
    "name": "ipython",
    "version": 3
   },
   "file_extension": ".py",
   "mimetype": "text/x-python",
   "name": "python",
   "nbconvert_exporter": "python",
   "pygments_lexer": "ipython3",
   "version": "3.8.3"
  }
 },
 "nbformat": 4,
 "nbformat_minor": 4
}
