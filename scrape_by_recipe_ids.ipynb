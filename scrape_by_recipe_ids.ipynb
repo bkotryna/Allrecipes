{
 "cells": [
  {
   "cell_type": "markdown",
   "metadata": {},
   "source": [
    "# Retrieve recipes by recipe id"
   ]
  },
  {
   "cell_type": "markdown",
   "metadata": {},
   "source": [
    "Use functions imported from another file."
   ]
  },
  {
   "cell_type": "markdown",
   "metadata": {},
   "source": [
    "## Import packages / setup"
   ]
  },
  {
   "cell_type": "code",
   "execution_count": 13,
   "metadata": {},
   "outputs": [],
   "source": [
    "# import public things\n",
    "\n",
    "# general / random\n",
    "import pandas as pd\n",
    "import numpy as np\n",
    "import matplotlib.pyplot as plt\n",
    "import ipynb\n",
    "import re # for string parsing / editing\n",
    "import string # for string parsing / editing\n",
    "from datetime import datetime\n",
    "import time\n",
    "import random\n",
    "from pathlib import Path\n",
    "import os\n",
    "import ast\n",
    "\n",
    "# for html\n",
    "import requests # for getting html off the web\n",
    "from bs4 import BeautifulSoup # for parsing html\n",
    "import json\n",
    "\n",
    "# for ML\n",
    "from wordcloud import WordCloud, STOPWORDS\n",
    "import snowballstemmer\n",
    "from sklearn.feature_extraction.text import CountVectorizer\n",
    "from sklearn.feature_extraction.text import TfidfTransformer\n",
    "from sklearn.decomposition import NMF\n",
    "\n",
    "# import functions from my functions file\n",
    "import ipynb.fs.full.functions as funcs\n",
    "\n",
    "# update a module if it's been edited\n",
    "# (this is just going around a jupyter feature where simply re-importing doesn't do anything)\n",
    "# https://support.enthought.com/hc/en-us/articles/204469240-Jupyter-IPython-After-editing-a-module-changes-are-not-effective-without-kernel-restart\n",
    "import importlib\n",
    "importlib.reload(funcs)\n",
    "\n",
    "# other useful settings\n",
    "pd.set_option('display.max_columns', 500)\n",
    "pd.set_option('display.max_rows', 5)"
   ]
  },
  {
   "cell_type": "markdown",
   "metadata": {},
   "source": [
    "## The actual workflow"
   ]
  },
  {
   "cell_type": "code",
   "execution_count": 14,
   "metadata": {},
   "outputs": [
    {
     "name": "stdout",
     "output_type": "stream",
     "text": [
      "Created directory for this round:\n",
      "/home/bkotryna/ML_practice/allrecipes_project/data/2021-05-11_11-26/\n"
     ]
    }
   ],
   "source": [
    "# create a new folder for the round\n",
    "\n",
    "time_now = datetime.today().strftime('%Y-%m-%d_%H-%M')\n",
    "round_folder = f'/home/bkotryna/ML_practice/allrecipes_project/data/{time_now}/'\n",
    "path_round_folder = Path(round_folder)\n",
    "path_round_folder.mkdir(parents=True, exist_ok=True)\n",
    "\n",
    "print(f'Created directory for this round:\\n{round_folder}')"
   ]
  },
  {
   "cell_type": "code",
   "execution_count": 15,
   "metadata": {},
   "outputs": [
    {
     "name": "stdout",
     "output_type": "stream",
     "text": [
      "Created directory for recipe html's:\n",
      "/home/bkotryna/ML_practice/allrecipes_project/data/2021-05-11_11-26/recipes/\n"
     ]
    }
   ],
   "source": [
    "# create a new folder for recipe html's\n",
    "\n",
    "recipes_folder = f'/home/bkotryna/ML_practice/allrecipes_project/data/{time_now}/recipes/'\n",
    "path_recipes_folder = Path(recipes_folder)\n",
    "path_recipes_folder.mkdir(parents=True, exist_ok=True)\n",
    "\n",
    "print(f'Created directory for recipe html\\'s:\\n{recipes_folder}')"
   ]
  },
  {
   "cell_type": "code",
   "execution_count": 16,
   "metadata": {},
   "outputs": [
    {
     "name": "stdout",
     "output_type": "stream",
     "text": [
      "Changed into the directory for the current round:\n",
      "/home/bkotryna/ML_practice/allrecipes_project/data/2021-05-11_11-26/recipes\n",
      "\n",
      "Start retrieving recipes:\n",
      "\n",
      "\n",
      "48633 - attempting to retrieve. That makes it 1 pages tried so far.\n",
      "Success => 1 retrieved total\n",
      "\n",
      "30719 - attempting to retrieve. That makes it 2 pages tried so far.\n"
     ]
    },
    {
     "ename": "KeyboardInterrupt",
     "evalue": "",
     "output_type": "error",
     "traceback": [
      "\u001b[0;31m---------------------------------------------------------------------------\u001b[0m",
      "\u001b[0;31mKeyboardInterrupt\u001b[0m                         Traceback (most recent call last)",
      "\u001b[0;32m<ipython-input-16-911e38020fd5>\u001b[0m in \u001b[0;36m<module>\u001b[0;34m\u001b[0m\n\u001b[1;32m      8\u001b[0m \u001b[0;31m# provide a range of id's to sample from randomly and choose how many html's you want to retrieve\u001b[0m\u001b[0;34m\u001b[0m\u001b[0;34m\u001b[0m\u001b[0;34m\u001b[0m\u001b[0m\n\u001b[1;32m      9\u001b[0m \u001b[0mid_list\u001b[0m \u001b[0;34m=\u001b[0m \u001b[0mrandom\u001b[0m\u001b[0;34m.\u001b[0m\u001b[0msample\u001b[0m\u001b[0;34m(\u001b[0m\u001b[0mrange\u001b[0m\u001b[0;34m(\u001b[0m\u001b[0;36m25000\u001b[0m\u001b[0;34m,\u001b[0m \u001b[0;36m50000\u001b[0m\u001b[0;34m)\u001b[0m\u001b[0;34m,\u001b[0m \u001b[0;36m20000\u001b[0m\u001b[0;34m)\u001b[0m\u001b[0;34m\u001b[0m\u001b[0;34m\u001b[0m\u001b[0m\n\u001b[0;32m---> 10\u001b[0;31m \u001b[0mpages_retrieved\u001b[0m \u001b[0;34m=\u001b[0m \u001b[0mfuncs\u001b[0m\u001b[0;34m.\u001b[0m\u001b[0mretrieve_recipes_from_id_list\u001b[0m\u001b[0;34m(\u001b[0m\u001b[0mid_list\u001b[0m\u001b[0;34m)\u001b[0m\u001b[0;34m\u001b[0m\u001b[0;34m\u001b[0m\u001b[0m\n\u001b[0m\u001b[1;32m     11\u001b[0m \u001b[0mprint\u001b[0m\u001b[0;34m(\u001b[0m\u001b[0;34mf'\\n\\n******\\nNumber of recipes successfully retrieved is {pages_retrieved}.\\n******\\n\\n'\u001b[0m\u001b[0;34m)\u001b[0m\u001b[0;34m\u001b[0m\u001b[0;34m\u001b[0m\u001b[0m\n\u001b[1;32m     12\u001b[0m \u001b[0;34m\u001b[0m\u001b[0m\n",
      "\u001b[0;32m~/ML_practice/allrecipes_project/functions.ipynb\u001b[0m in \u001b[0;36mretrieve_recipes_from_id_list\u001b[0;34m(id_list)\u001b[0m\n\u001b[1;32m    192\u001b[0m     \u001b[0;34m\"        \\n\"\u001b[0m\u001b[0;34m,\u001b[0m\u001b[0;34m\u001b[0m\u001b[0;34m\u001b[0m\u001b[0m\n\u001b[1;32m    193\u001b[0m     \u001b[0;34m\"        base_url = 'https://www.allrecipes.com/recipes/'\\n\"\u001b[0m\u001b[0;34m,\u001b[0m\u001b[0;34m\u001b[0m\u001b[0;34m\u001b[0m\u001b[0m\n\u001b[0;32m--> 194\u001b[0;31m     \u001b[0;34m\"        full_url = f\\\"{base_url}{one_id}\\\"\\n\"\u001b[0m\u001b[0;34m,\u001b[0m\u001b[0;34m\u001b[0m\u001b[0;34m\u001b[0m\u001b[0m\n\u001b[0m\u001b[1;32m    195\u001b[0m     \u001b[0;34m\"        retrieved = requests.get(full_url)\\n\"\u001b[0m\u001b[0;34m,\u001b[0m\u001b[0;34m\u001b[0m\u001b[0;34m\u001b[0m\u001b[0m\n\u001b[1;32m    196\u001b[0m     \u001b[0;34m\"        page = BeautifulSoup(retrieved.content)\\n\"\u001b[0m\u001b[0;34m,\u001b[0m\u001b[0;34m\u001b[0m\u001b[0;34m\u001b[0m\u001b[0m\n",
      "\u001b[0;32m~/ML_practice/allrecipes_project/functions.ipynb\u001b[0m in \u001b[0;36mdelay\u001b[0;34m()\u001b[0m\n\u001b[1;32m    487\u001b[0m     \u001b[0;34m\"    ingredients_df = pd.DataFrame(columns=['ingredients_no', 'ingredient_names'])\\n\"\u001b[0m\u001b[0;34m,\u001b[0m\u001b[0;34m\u001b[0m\u001b[0;34m\u001b[0m\u001b[0m\n\u001b[1;32m    488\u001b[0m     \u001b[0;34m\"    ingredients_df.loc[0] = [ingredients_no, ingredient_names]\\n\"\u001b[0m\u001b[0;34m,\u001b[0m\u001b[0;34m\u001b[0m\u001b[0;34m\u001b[0m\u001b[0m\n\u001b[0;32m--> 489\u001b[0;31m     \u001b[0;34m\"\\n\"\u001b[0m\u001b[0;34m,\u001b[0m\u001b[0;34m\u001b[0m\u001b[0;34m\u001b[0m\u001b[0m\n\u001b[0m\u001b[1;32m    490\u001b[0m     \u001b[0;34m\"    return ingredients_df\"\u001b[0m\u001b[0;34m\u001b[0m\u001b[0;34m\u001b[0m\u001b[0m\n\u001b[1;32m    491\u001b[0m    ]\n",
      "\u001b[0;31mKeyboardInterrupt\u001b[0m: "
     ]
    }
   ],
   "source": [
    "# get user input for recipe ids\n",
    "\n",
    "# change into the folder for the round\n",
    "os.chdir(path_recipes_folder)\n",
    "print(f'Changed into the directory for the current round:\\n{os.getcwd()}\\n')\n",
    "\n",
    "# retrieve and save recipe html files\n",
    "# provide a range of id's to sample from randomly and choose how many html's you want to retrieve\n",
    "id_list = random.sample(range(25000, 50000), 20000)\n",
    "pages_retrieved = funcs.retrieve_recipes_from_id_list(id_list)\n",
    "print(f'\\n\\n******\\nNumber of recipes successfully retrieved is {pages_retrieved}.\\n******\\n\\n')\n",
    "\n",
    "# change back into allrecipes/ folder\n",
    "os.chdir('../../..')\n",
    "print(f'Changed back into project directory:/n{os.getcwd()}')"
   ]
  }
 ],
 "metadata": {
  "kernelspec": {
   "display_name": "Python 3",
   "language": "python",
   "name": "python3"
  },
  "language_info": {
   "codemirror_mode": {
    "name": "ipython",
    "version": 3
   },
   "file_extension": ".py",
   "mimetype": "text/x-python",
   "name": "python",
   "nbconvert_exporter": "python",
   "pygments_lexer": "ipython3",
   "version": "3.8.3"
  }
 },
 "nbformat": 4,
 "nbformat_minor": 4
}
