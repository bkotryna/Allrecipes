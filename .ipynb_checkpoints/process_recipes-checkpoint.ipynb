{
 "cells": [
  {
   "cell_type": "markdown",
   "metadata": {},
   "source": [
    "# Process retrieved recipe html's"
   ]
  },
  {
   "cell_type": "markdown",
   "metadata": {},
   "source": [
    "Use functions imported from another file."
   ]
  },
  {
   "cell_type": "markdown",
   "metadata": {},
   "source": [
    "## Import packages / setup"
   ]
  },
  {
   "cell_type": "code",
   "execution_count": 1,
   "metadata": {},
   "outputs": [],
   "source": [
    "# import public things\n",
    "\n",
    "# general / random\n",
    "import pandas as pd\n",
    "import numpy as np\n",
    "import matplotlib.pyplot as plt\n",
    "import ipynb\n",
    "import re # for string parsing / editing\n",
    "import string # for string parsing / editing\n",
    "from datetime import datetime\n",
    "import time\n",
    "import random\n",
    "from pathlib import Path\n",
    "import os\n",
    "import ast\n",
    "\n",
    "# for html\n",
    "import requests # for getting html off the web\n",
    "from bs4 import BeautifulSoup # for parsing html\n",
    "import json\n",
    "\n",
    "# for ML\n",
    "from wordcloud import WordCloud, STOPWORDS\n",
    "import snowballstemmer\n",
    "from sklearn.feature_extraction.text import CountVectorizer\n",
    "from sklearn.feature_extraction.text import TfidfTransformer\n",
    "from sklearn.decomposition import NMF\n",
    "\n",
    "# import functions from my functions file\n",
    "import ipynb.fs.full.functions as funcs\n",
    "\n",
    "# update a module if it's been edited\n",
    "# (this is just going around a jupyter feature where simply re-importing doesn't do anything)\n",
    "# https://support.enthought.com/hc/en-us/articles/204469240-Jupyter-IPython-After-editing-a-module-changes-are-not-effective-without-kernel-restart\n",
    "import importlib\n",
    "importlib.reload(funcs)\n",
    "\n",
    "# other useful settings\n",
    "pd.set_option('display.max_columns', 500)\n",
    "pd.set_option('display.max_rows', 5)"
   ]
  },
  {
   "cell_type": "markdown",
   "metadata": {},
   "source": [
    "## The actual workflow"
   ]
  },
  {
   "cell_type": "code",
   "execution_count": 2,
   "metadata": {},
   "outputs": [],
   "source": [
    "# input the name (which is a timestamp) of the folder for the round of interest\n",
    "\n",
    "input_timestamp = 'joint_2021-05-11_11-28'"
   ]
  },
  {
   "cell_type": "code",
   "execution_count": 3,
   "metadata": {},
   "outputs": [
    {
     "ename": "FileNotFoundError",
     "evalue": "[Errno 2] No such file or directory: '/home/bkotryna/ML_practice/allrecipes_project/data/joint_2021-05-11_11-28/recipes'",
     "output_type": "error",
     "traceback": [
      "\u001b[0;31m---------------------------------------------------------------------------\u001b[0m",
      "\u001b[0;31mFileNotFoundError\u001b[0m                         Traceback (most recent call last)",
      "\u001b[0;32m<ipython-input-3-185b5d255e6d>\u001b[0m in \u001b[0;36m<module>\u001b[0;34m\u001b[0m\n\u001b[1;32m      4\u001b[0m \u001b[0mrecipes_folder\u001b[0m \u001b[0;34m=\u001b[0m \u001b[0;34mf'/home/bkotryna/ML_practice/allrecipes_project/data/{input_timestamp}/recipes/'\u001b[0m\u001b[0;34m\u001b[0m\u001b[0;34m\u001b[0m\u001b[0m\n\u001b[1;32m      5\u001b[0m \u001b[0mpath_recipes_folder\u001b[0m \u001b[0;34m=\u001b[0m \u001b[0mPath\u001b[0m\u001b[0;34m(\u001b[0m\u001b[0mrecipes_folder\u001b[0m\u001b[0;34m)\u001b[0m\u001b[0;34m\u001b[0m\u001b[0;34m\u001b[0m\u001b[0m\n\u001b[0;32m----> 6\u001b[0;31m \u001b[0mos\u001b[0m\u001b[0;34m.\u001b[0m\u001b[0mchdir\u001b[0m\u001b[0;34m(\u001b[0m\u001b[0mpath_recipes_folder\u001b[0m\u001b[0;34m)\u001b[0m\u001b[0;34m\u001b[0m\u001b[0;34m\u001b[0m\u001b[0m\n\u001b[0m\u001b[1;32m      7\u001b[0m \u001b[0mprint\u001b[0m\u001b[0;34m(\u001b[0m\u001b[0;34mf'We\\'ll read in recipes from the folder:\\n{os.getcwd()}\\nNumber of files in this folder is {len(os.listdir())}.\\n'\u001b[0m\u001b[0;34m)\u001b[0m\u001b[0;34m\u001b[0m\u001b[0;34m\u001b[0m\u001b[0m\n\u001b[1;32m      8\u001b[0m \u001b[0;34m\u001b[0m\u001b[0m\n",
      "\u001b[0;31mFileNotFoundError\u001b[0m: [Errno 2] No such file or directory: '/home/bkotryna/ML_practice/allrecipes_project/data/joint_2021-05-11_11-28/recipes'"
     ]
    }
   ],
   "source": [
    "# Loop through all the recipe html files in the directory of interest and extract data from them\n",
    "\n",
    "# go to the folder of interest\n",
    "recipes_folder = f'/home/bkotryna/Allrecipes/data/{input_timestamp}/recipes/'\n",
    "path_recipes_folder = Path(recipes_folder)\n",
    "os.chdir(path_recipes_folder)\n",
    "print(f'We\\'ll read in recipes from the folder:\\n{os.getcwd()}\\nNumber of files in this folder is {len(os.listdir())}.\\n')\n",
    "\n",
    "\n",
    "# create a dictionary with key = recipe_id, value = a list of sub-df's with data from that recipe\n",
    "recipe_dfs_dict = {}\n",
    "# create a master df for all recipes\n",
    "recipes_df = pd.DataFrame()\n",
    "\n",
    "# count recipes that have (not) been processed successfully\n",
    "failed_recipes_no = 0\n",
    "successful_recipes_no = 0\n",
    "\n",
    "failed_recipes_ids = []\n",
    "successful_recipes_ids = []\n",
    "\n",
    "# read in one html file at a time and extract data to populate a spreadsheet\n",
    "# loop through the directory\n",
    "for file in os.listdir(path_recipes_folder):\n",
    "    filename = os.fsdecode(file)\n",
    "    \n",
    "    recipe_id = filename\n",
    "    print(recipe_id)\n",
    "    \n",
    "    # open a file and read the contents\n",
    "    with open(filename, 'r') as page_text:\n",
    "        \n",
    "        # convert contents into BS\n",
    "        page = BeautifulSoup(page_text)\n",
    "        \n",
    "        # extract info from json\n",
    "        recipe_info_df = funcs.extract_info_from_json_on_page_to_df(page)\n",
    "        \n",
    "        # if can't find json, ignore this page\n",
    "        if recipe_info_df.empty:\n",
    "            # count recipes that haven't been processed successfully\n",
    "            failed_recipes_no += 1\n",
    "            failed_recipes_ids.append(recipe_id)\n",
    "            #break\n",
    "        else:\n",
    "            # create pandas df's for bits of useful information\n",
    "            key_info_df = funcs.extract_key_info(recipe_info_df)\n",
    "\n",
    "            #recipe_id = key_info_df.loc[0]['recipe_id']\n",
    "\n",
    "            times_df = funcs.extract_times(recipe_info_df)\n",
    "            ingredients_df = funcs.extract_ingredients(recipe_info_df)\n",
    "            steps_df = funcs.extract_method_steps(recipe_info_df)\n",
    "            nutrition_df = funcs.extract_nutritional_info(recipe_info_df)\n",
    "\n",
    "            # extract stuff directly from html\n",
    "            stars_and_reviews_df = funcs.extract_stars_and_review_info(page)\n",
    "            multimedia_df = funcs.extract_multimedia_info(page)\n",
    "\n",
    "            # incorporate the mini sub-df's into a list (eventually we'll make them into one master df)\n",
    "            # BTW it's way more efficient to not iterative grow a df!\n",
    "            # https://stackoverflow.com/questions/13784192/creating-an-empty-pandas-dataframe-then-filling-it\n",
    "            recipe_dfs_list = [key_info_df, stars_and_reviews_df, multimedia_df, times_df,\n",
    "                               ingredients_df, steps_df, nutrition_df]\n",
    "\n",
    "            # add the list of mini df's to a dictionary. Key = recipe_id, value = list of mini df's for that recipe       \n",
    "            dict_key = recipe_id\n",
    "            dict_value = recipe_dfs_list\n",
    "            recipe_dfs_dict[dict_key] = dict_value\n",
    "            \n",
    "            # count successfully processed recipes\n",
    "            successful_recipes_no += 1\n",
    "            successful_recipes_ids.append(recipe_id)\n",
    "            \n",
    "print(f'\\nAll recipes have now been attempted.\\nNumber of successful recipes is {successful_recipes_no}.\\nNumber of failed recipes is {failed_recipes_no}.\\n\\nSuccessful recipe ids are {successful_recipes_ids}\\nFailed recipe ids are {failed_recipes_ids}')"
   ]
  },
  {
   "cell_type": "code",
   "execution_count": null,
   "metadata": {},
   "outputs": [],
   "source": []
  },
  {
   "cell_type": "code",
   "execution_count": null,
   "metadata": {},
   "outputs": [],
   "source": [
    "# use recipe_dfs_dict to populate recipes_df\n",
    "# loop over all recipe ids\n",
    "for recipe_id, content in recipe_dfs_dict.items():\n",
    "\n",
    "    # for each recipe_id, make a single df\n",
    "    one_recipe_df = pd.concat(content, axis=1)\n",
    "\n",
    "    # add the one_recipe_df to the master df\n",
    "    recipes_df = pd.concat([recipes_df, one_recipe_df], axis=0)\n",
    "\n",
    "# reindex with recipe_id as the index\n",
    "recipes_df.set_index('recipe_id', inplace=True)\n",
    "    \n",
    "# inspect\n",
    "display(recipes_df)\n",
    "display(recipes_df.describe())\n",
    "display(recipes_df.info())"
   ]
  },
  {
   "cell_type": "code",
   "execution_count": null,
   "metadata": {},
   "outputs": [],
   "source": [
    "# save the master spreadsheet\n",
    "\n",
    "# go to the folder of interest\n",
    "round_folder = f'/home/bkotryna/Allrecipes/data/{input_timestamp}/'\n",
    "path_round_folder = Path(round_folder)\n",
    "os.chdir(path_round_folder)\n",
    "print(f'We\\'ll save recipes_df as an Excel spreadsheet in the folder for this round:\\n{os.getcwd()}')\n",
    "\n",
    "# save as Excel\n",
    "name_to_save = 'processed_recipe_data.xlsx'\n",
    "recipes_df.to_excel(name_to_save)"
   ]
  }
 ],
 "metadata": {
  "kernelspec": {
   "display_name": "Python 3",
   "language": "python",
   "name": "python3"
  },
  "language_info": {
   "codemirror_mode": {
    "name": "ipython",
    "version": 3
   },
   "file_extension": ".py",
   "mimetype": "text/x-python",
   "name": "python",
   "nbconvert_exporter": "python",
   "pygments_lexer": "ipython3",
   "version": "3.8.3"
  }
 },
 "nbformat": 4,
 "nbformat_minor": 4
}
