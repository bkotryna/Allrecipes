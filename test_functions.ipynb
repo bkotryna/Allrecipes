{
 "cells": [
  {
   "cell_type": "code",
   "execution_count": null,
   "metadata": {},
   "outputs": [],
   "source": [
    "# import public things\n",
    "import requests # for getting html off the web\n",
    "from bs4 import BeautifulSoup # for parsing html\n",
    "import json\n",
    "import pandas as pd\n",
    "import re # for string parsing / editing\n",
    "import string # for string parsing / editing\n",
    "import pandas as pd\n",
    "import matplotlib.pyplot as plt\n",
    "from wordcloud import WordCloud, STOPWORDS\n",
    "import ipynb\n",
    "\n",
    "# import functions from my functions file\n",
    "import ipynb.fs.full.test_functions as funcs"
   ]
  }
 ],
 "metadata": {
  "kernelspec": {
   "display_name": "Python 3",
   "language": "python",
   "name": "python3"
  },
  "language_info": {
   "codemirror_mode": {
    "name": "ipython",
    "version": 3
   },
   "file_extension": ".py",
   "mimetype": "text/x-python",
   "name": "python",
   "nbconvert_exporter": "python",
   "pygments_lexer": "ipython3",
   "version": "3.8.3"
  }
 },
 "nbformat": 4,
 "nbformat_minor": 4
}
